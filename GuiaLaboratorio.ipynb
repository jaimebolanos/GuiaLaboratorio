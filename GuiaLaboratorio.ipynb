{
 "cells": [
  {
   "cell_type": "code",
   "execution_count": 10,
   "metadata": {},
   "outputs": [
    {
     "data": {
      "text/html": [
       "<style>\n",
       "div.input {\n",
       "    display:none;\n",
       "}\n",
       "</style>"
      ],
      "text/plain": [
       "<IPython.core.display.HTML object>"
      ]
     },
     "metadata": {},
     "output_type": "display_data"
    }
   ],
   "source": [
    "%%html\n",
    "<style>\n",
    "div.input {\n",
    "    display:none;\n",
    "}\n",
    "</style>"
   ]
  },
  {
   "cell_type": "markdown",
   "metadata": {},
   "source": [
    "\n",
    "<p style=\"text-align: center;font-family:Arial;font-size:32px;Color:red \">GUÍA DE LABORATORIO </p>\n",
    "\n",
    "<p style=\"text-align: center;font-family:Arial;font-size:24px;Color:blue \"> Cónicas, Cuádricas y Cilíndricas</p>"
   ]
  },
  {
   "cell_type": "markdown",
   "metadata": {},
   "source": [
    "\n",
    "\n",
    "<p style=\"text-align: left;font-family:Arial;font-size:32px;Color:red \">OBJETIVOS </p>\n",
    "\n",
    "- Generalizar los conceptos de las cónicas a superficies en 3D\n",
    "\n",
    "- Ilustrar de manera interactiva las algunas transformaciones geométricas\n"
   ]
  },
  {
   "cell_type": "markdown",
   "metadata": {},
   "source": [
    "\n",
    "\n",
    "<p style=\"text-align: left;font-family:Arial;font-size:32px;Color:red \">COMPETENCIAS A DESARROLLAR </p>\n",
    "\n",
    "A través del trabajo con esta guia el estudiante debe:\n",
    "\n",
    "-  Relacionar las transformaciones espaciales básicas con el cambio numérico de cada uno de los parámetros de la \n",
    "   \n",
    "   ecuación\n",
    "\n",
    "\n",
    "- Desarrollar el pensamiento espacial a través del reconocimiento de estructuras geométricas bidimensionales en contextos \n",
    " \n",
    "  tridimensionales.\n"
   ]
  },
  {
   "cell_type": "markdown",
   "metadata": {},
   "source": [
    "\n",
    "<p style=\"text-align: left;font-family:Arial;font-size:32px;Color:red \">ACTIVIDADES PREVIAS </p>\n",
    "\n",
    "-Vea el video que se muestra a continuación y consulte las ecuaciones de las cónicas mostradas\n",
    "\n",
    "-Mediante un dibujo ilustre cómo se forman las cónicas cuando un cono circular recto se intersecta con un plano"
   ]
  },
  {
   "cell_type": "code",
   "execution_count": 11,
   "metadata": {},
   "outputs": [
    {
     "data": {
      "text/html": [
       "<iframe width=\"700\" height=\"300\" src=\"https://www.youtube.com/embed/GHgHx1X4XDI?rel=0&amp;controls=1&amp;showinfo=0\" frameborder=\"0\" allowfullscreen></iframe>"
      ],
      "text/plain": [
       "<IPython.core.display.HTML object>"
      ]
     },
     "execution_count": 11,
     "metadata": {},
     "output_type": "execute_result"
    }
   ],
   "source": [
    "from IPython.display import HTML\n",
    "\n",
    "# Youtube\n",
    "HTML('<iframe width=\"700\" height=\"300\" src=\"https://www.youtube.com/embed/GHgHx1X4XDI?rel=0&amp;controls=1&amp;showinfo=0\" frameborder=\"0\" allowfullscreen></iframe>')\n",
    "\n",
    "# Vimeo\n",
    "# HTML('<iframe src=\"https://player.vimeo.com/video/26763844?title=0&byline=0&portrait=0\" width=\"900\" height=\"300\" frameborder=\"0\" webkitallowfullscreen mozallowfullscreen allowfullscreen></iframe><p><a href=\"https://vimeo.com/26763844\">BAXTER DURY - CLAIRE (Dir Cut)</a> from <a href=\"https://vimeo.com/dannysangra\">Danny Sangra</a> on <a href=\"https://vimeo.com\">Vimeo</a>.</p>')"
   ]
  },
  {
   "cell_type": "markdown",
   "metadata": {},
   "source": [
    " \n",
    "<p style=\"text-align: left;font-family:Arial;font-size:32px;Color:red \">ASPECTOS TEÓRICOS </p>\n"
   ]
  },
  {
   "cell_type": "code",
   "execution_count": 12,
   "metadata": {},
   "outputs": [
    {
     "data": {
      "text/html": [
       "<iframe src=Transformaciones.pdf width=900 height=600></iframe>"
      ],
      "text/plain": [
       "<IPython.core.display.HTML object>"
      ]
     },
     "execution_count": 12,
     "metadata": {},
     "output_type": "execute_result"
    }
   ],
   "source": [
    "from IPython.display import HTML\n",
    "HTML('<iframe src=Transformaciones.pdf width=900 height=600></iframe>')\n"
   ]
  },
  {
   "cell_type": "code",
   "execution_count": 13,
   "metadata": {},
   "outputs": [],
   "source": [
    "# ![hhhhh](Tanque.png)\n",
    "# <h4>Además se tiene que la concentración c es $c=\\frac{m}{v}=\\frac{\\dot{m}}{\\dot{v}}$    </h4>"
   ]
  },
  {
   "cell_type": "markdown",
   "metadata": {},
   "source": [
    "\n",
    "<p style=\"text-align: left;font-family:Arial;font-size:32px;Color:red \">PROCEDIMIENTO </p>\n"
   ]
  },
  {
   "cell_type": "markdown",
   "metadata": {},
   "source": [
    "# 1. TRANSFORMACIONES GEOMÉTRICAS DE UNA RECTA "
   ]
  },
  {
   "cell_type": "code",
   "execution_count": 14,
   "metadata": {},
   "outputs": [
    {
     "data": {
      "text/html": [
       "<iframe src=recta.html width=830 height=500 > </iframe>"
      ],
      "text/plain": [
       "<IPython.core.display.HTML object>"
      ]
     },
     "execution_count": 14,
     "metadata": {},
     "output_type": "execute_result"
    }
   ],
   "source": [
    "from IPython.display import HTML\n",
    "HTML('<iframe src=recta.html width=830 height=500 > </iframe>')"
   ]
  },
  {
   "cell_type": "markdown",
   "metadata": {},
   "source": [
    "1. Observe la escena anterior.Note la ecuación de la recta $y=m\\cdot x +b$ y los controles en la parte inferior \n",
    "   para m y b.\n",
    "2. Mueva el control de m aumentando paulatinamente. Ahora disminuya el valor de m. \n",
    "   -¿Qué observa? -¿Cómo está relacionada la inclinación de la recta con el valor de la pendiente?. EXPLIQUE\n",
    "3. Mueva el control de y-intercepto y fíjese dónde corta el eje vertical. Establezca el significado de b.\n",
    "\n"
   ]
  },
  {
   "cell_type": "code",
   "execution_count": 15,
   "metadata": {},
   "outputs": [
    {
     "data": {
      "text/html": [
       "<iframe src=parabola.html width=830 height=500 > </iframe>"
      ],
      "text/plain": [
       "<IPython.core.display.HTML object>"
      ]
     },
     "execution_count": 15,
     "metadata": {},
     "output_type": "execute_result"
    }
   ],
   "source": [
    "from IPython.display import HTML\n",
    "HTML('<iframe src=parabola.html width=830 height=500 > </iframe>')"
   ]
  },
  {
   "cell_type": "code",
   "execution_count": 16,
   "metadata": {},
   "outputs": [
    {
     "data": {
      "text/html": [
       "<iframe src=parabola1.html width=830 height=500 > </iframe>"
      ],
      "text/plain": [
       "<IPython.core.display.HTML object>"
      ]
     },
     "execution_count": 16,
     "metadata": {},
     "output_type": "execute_result"
    }
   ],
   "source": [
    "from IPython.display import HTML\n",
    "HTML('<iframe src=parabola1.html width=830 height=500 > </iframe>')"
   ]
  },
  {
   "cell_type": "markdown",
   "metadata": {},
   "source": [
    "# CUÁDRICAS Y CILÍNDRICAS"
   ]
  },
  {
   "cell_type": "code",
   "execution_count": 17,
   "metadata": {},
   "outputs": [
    {
     "data": {
      "text/html": [
       "<iframe src=https://www.geogebra.org/3d width=950 height=500></iframe>"
      ],
      "text/plain": [
       "<IPython.core.display.HTML object>"
      ]
     },
     "execution_count": 17,
     "metadata": {},
     "output_type": "execute_result"
    }
   ],
   "source": [
    "import IPython\n",
    "url = 'https://www.geogebra.org/3d'\n",
    "iframe = '<iframe src=' + url + ' width=950 height=500></iframe>'\n",
    "IPython.display.HTML(iframe)"
   ]
  },
  {
   "cell_type": "markdown",
   "metadata": {},
   "source": [
    "# PRODUCCIÓN DEL ESTUDIANTES\n",
    "Cálculos\n",
    "Descripción\n",
    "Resolución de problemas\n",
    "Apreciación\n",
    "Construcción de gráficas"
   ]
  },
  {
   "cell_type": "code",
   "execution_count": null,
   "metadata": {},
   "outputs": [],
   "source": []
  }
 ],
 "metadata": {
  "kernelspec": {
   "display_name": "Python 3",
   "language": "python",
   "name": "python3"
  },
  "language_info": {
   "codemirror_mode": {
    "name": "ipython",
    "version": 3
   },
   "file_extension": ".py",
   "mimetype": "text/x-python",
   "name": "python",
   "nbconvert_exporter": "python",
   "pygments_lexer": "ipython3",
   "version": "3.5.2"
  }
 },
 "nbformat": 4,
 "nbformat_minor": 2
}
